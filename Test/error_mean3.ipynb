{
 "cells": [
  {
   "cell_type": "code",
   "execution_count": 1,
   "metadata": {},
   "outputs": [],
   "source": [
    "import pandas as pd\n",
    "import numpy as np"
   ]
  },
  {
   "cell_type": "code",
   "execution_count": 2,
   "metadata": {},
   "outputs": [],
   "source": [
    "model_name = ['VGG16+Dropout','VGG16','VGG16+Batch Normalization','Xception+Dropout','Xception','AlexNet']"
   ]
  },
  {
   "cell_type": "code",
   "execution_count": 15,
   "metadata": {},
   "outputs": [],
   "source": [
    "mean = []"
   ]
  },
  {
   "cell_type": "code",
   "execution_count": 18,
   "metadata": {},
   "outputs": [
    {
     "name": "stdout",
     "output_type": "stream",
     "text": [
      "[4.889090457515818, 6.188555371054124, 6.119602363582723, 5.804820932485174, 5.889886196553343, 8.589648635603924]\n"
     ]
    }
   ],
   "source": [
    "mean = []\n",
    "n = ['image', 'blank1', 'state', 'blank2', 'truth_x', 'truth_y', 'blank3', 'estimate_x', 'estimate_y', 'blank4', 'error']\n",
    "for i in range(len(model_name)):\n",
    "    df = pd.read_csv('C:/Users/ployw/OneDrive/Desktop/Kyutech/Lab/Thesis/Result/Pupil detection/D2 Data set/Result Files/'+model_name[i]+'/result.csv',header = None,names=n)\n",
    "    mean.append(df[\"error\"].mean())\n",
    "print(mean)"
   ]
  },
  {
   "cell_type": "code",
   "execution_count": 27,
   "metadata": {},
   "outputs": [
    {
     "name": "stdout",
     "output_type": "stream",
     "text": [
      "0                VGG16+Dropout\n",
      "1                        VGG16\n",
      "2    VGG16+Batch Normalization\n",
      "3             Xception+Dropout\n",
      "4                     Xception\n",
      "5                      AlexNet\n",
      "Name: model_name, dtype: object\n"
     ]
    }
   ],
   "source": [
    "model_name = pd.Series(model_name,name='model_name')\n",
    "print(model_name)"
   ]
  },
  {
   "cell_type": "code",
   "execution_count": 28,
   "metadata": {},
   "outputs": [
    {
     "name": "stdout",
     "output_type": "stream",
     "text": [
      "0    4.889090\n",
      "1    6.188555\n",
      "2    6.119602\n",
      "3    5.804821\n",
      "4    5.889886\n",
      "5    8.589649\n",
      "Name: mean, dtype: float64\n"
     ]
    }
   ],
   "source": [
    "mean = pd.Series(mean,name='mean')\n",
    "print(mean)"
   ]
  },
  {
   "cell_type": "code",
   "execution_count": 29,
   "metadata": {},
   "outputs": [
    {
     "name": "stdout",
     "output_type": "stream",
     "text": [
      "                  model_name      mean\n",
      "0              VGG16+Dropout  4.889090\n",
      "1                      VGG16  6.188555\n",
      "2  VGG16+Batch Normalization  6.119602\n",
      "3           Xception+Dropout  5.804821\n",
      "4                   Xception  5.889886\n",
      "5                    AlexNet  8.589649\n"
     ]
    }
   ],
   "source": [
    "pd_mean = pd.concat([model_name,mean],axis=1)\n",
    "print(pd_mean)"
   ]
  },
  {
   "cell_type": "code",
   "execution_count": 31,
   "metadata": {},
   "outputs": [],
   "source": [
    "pd_mean.to_csv(\"C:/Users/ployw/OneDrive/Desktop/Kyutech/Lab/Thesis/Result/Pupil detection/D2 Data set/mean.csv\")"
   ]
  }
 ],
 "metadata": {
  "interpreter": {
   "hash": "d53e1329bae4e68341077a655bad661457cf9a5240465b2838631e5d054e249f"
  },
  "kernelspec": {
   "display_name": "Python 3.9.6 64-bit ('lingenv': venv)",
   "language": "python",
   "name": "python3"
  },
  "language_info": {
   "codemirror_mode": {
    "name": "ipython",
    "version": 3
   },
   "file_extension": ".py",
   "mimetype": "text/x-python",
   "name": "python",
   "nbconvert_exporter": "python",
   "pygments_lexer": "ipython3",
   "version": "3.9.6"
  },
  "orig_nbformat": 4
 },
 "nbformat": 4,
 "nbformat_minor": 2
}
