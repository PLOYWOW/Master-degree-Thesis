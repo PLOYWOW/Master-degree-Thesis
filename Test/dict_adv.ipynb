{
 "cells": [
  {
   "cell_type": "code",
   "execution_count": 1,
   "metadata": {},
   "outputs": [],
   "source": [
    "import pandas as pd"
   ]
  },
  {
   "cell_type": "code",
   "execution_count": 2,
   "metadata": {},
   "outputs": [
    {
     "name": "stdout",
     "output_type": "stream",
     "text": [
      "James\n",
      "Smith\n",
      "James Smith\n"
     ]
    }
   ],
   "source": [
    "jane = {\n",
    "  \"people\" : [\n",
    "    {\n",
    "       \"firstName\": \"Joe\",\n",
    "       \"lastName\": \"Jackson\",\n",
    "       \"gender\": \"male\",\n",
    "       \"age\": 28,\n",
    "       \"number\": \"7349282382\"\n",
    "    },\n",
    "    {\n",
    "       \"firstName\": \"James\",\n",
    "       \"lastName\": \"Smith\",\n",
    "       \"gender\": \"male\",\n",
    "       \"age\": 32,\n",
    "       \"number\": \"5678568567\"\n",
    "    },\n",
    "    {\n",
    "       \"firstName\": \"Emily\",\n",
    "       \"lastName\": \"Jones\",\n",
    "       \"gender\": \"female\",\n",
    "       \"age\": 24,\n",
    "       \"number\": \"456754675\"\n",
    "    }\n",
    "  ]\n",
    "}\n",
    "\n",
    "print(jane[\"people\"][1][\"firstName\"])\n",
    "print(jane[\"people\"][1][\"lastName\"])\n",
    "\n",
    "print(jane[\"people\"][1][\"firstName\"],jane[\"people\"][1][\"lastName\"])"
   ]
  },
  {
   "cell_type": "code",
   "execution_count": 4,
   "metadata": {},
   "outputs": [
    {
     "data": {
      "text/html": [
       "<div>\n",
       "<style scoped>\n",
       "    .dataframe tbody tr th:only-of-type {\n",
       "        vertical-align: middle;\n",
       "    }\n",
       "\n",
       "    .dataframe tbody tr th {\n",
       "        vertical-align: top;\n",
       "    }\n",
       "\n",
       "    .dataframe thead th {\n",
       "        text-align: right;\n",
       "    }\n",
       "</style>\n",
       "<table border=\"1\" class=\"dataframe\">\n",
       "  <thead>\n",
       "    <tr style=\"text-align: right;\">\n",
       "      <th></th>\n",
       "      <th>people</th>\n",
       "    </tr>\n",
       "  </thead>\n",
       "  <tbody>\n",
       "    <tr>\n",
       "      <th>0</th>\n",
       "      <td>{'firstName': 'Joe', 'lastName': 'Jackson', 'g...</td>\n",
       "    </tr>\n",
       "    <tr>\n",
       "      <th>1</th>\n",
       "      <td>{'firstName': 'James', 'lastName': 'Smith', 'g...</td>\n",
       "    </tr>\n",
       "    <tr>\n",
       "      <th>2</th>\n",
       "      <td>{'firstName': 'Emily', 'lastName': 'Jones', 'g...</td>\n",
       "    </tr>\n",
       "  </tbody>\n",
       "</table>\n",
       "</div>"
      ],
      "text/plain": [
       "                                              people\n",
       "0  {'firstName': 'Joe', 'lastName': 'Jackson', 'g...\n",
       "1  {'firstName': 'James', 'lastName': 'Smith', 'g...\n",
       "2  {'firstName': 'Emily', 'lastName': 'Jones', 'g..."
      ]
     },
     "execution_count": 4,
     "metadata": {},
     "output_type": "execute_result"
    }
   ],
   "source": [
    "df = pd.DataFrame(jane)\n",
    "df"
   ]
  }
 ],
 "metadata": {
  "interpreter": {
   "hash": "d53e1329bae4e68341077a655bad661457cf9a5240465b2838631e5d054e249f"
  },
  "kernelspec": {
   "display_name": "Python 3.9.6 64-bit ('lingenv': venv)",
   "name": "python3"
  },
  "language_info": {
   "codemirror_mode": {
    "name": "ipython",
    "version": 3
   },
   "file_extension": ".py",
   "mimetype": "text/x-python",
   "name": "python",
   "nbconvert_exporter": "python",
   "pygments_lexer": "ipython3",
   "version": "3.9.6"
  },
  "orig_nbformat": 4
 },
 "nbformat": 4,
 "nbformat_minor": 2
}
