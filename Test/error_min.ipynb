{
 "cells": [
  {
   "cell_type": "code",
   "execution_count": 1,
   "metadata": {},
   "outputs": [],
   "source": [
    "import pandas as pd\n",
    "import numpy as np"
   ]
  },
  {
   "cell_type": "code",
   "execution_count": 2,
   "metadata": {},
   "outputs": [],
   "source": [
    "model_name = ['VGG16+Dropout','VGG16','VGG16+Batch Normalization','Xception+Dropout','Xception','AlexNet']"
   ]
  },
  {
   "cell_type": "code",
   "execution_count": 3,
   "metadata": {},
   "outputs": [],
   "source": [
    "min = []"
   ]
  },
  {
   "cell_type": "code",
   "execution_count": 4,
   "metadata": {},
   "outputs": [
    {
     "data": {
      "text/html": [
       "<div>\n",
       "<style scoped>\n",
       "    .dataframe tbody tr th:only-of-type {\n",
       "        vertical-align: middle;\n",
       "    }\n",
       "\n",
       "    .dataframe tbody tr th {\n",
       "        vertical-align: top;\n",
       "    }\n",
       "\n",
       "    .dataframe thead th {\n",
       "        text-align: right;\n",
       "    }\n",
       "</style>\n",
       "<table border=\"1\" class=\"dataframe\">\n",
       "  <thead>\n",
       "    <tr style=\"text-align: right;\">\n",
       "      <th></th>\n",
       "      <th>image</th>\n",
       "      <th>blank1</th>\n",
       "      <th>state</th>\n",
       "      <th>blank2</th>\n",
       "      <th>truth_x</th>\n",
       "      <th>truth_y</th>\n",
       "      <th>blank3</th>\n",
       "      <th>estimate_x</th>\n",
       "      <th>estimate_y</th>\n",
       "      <th>blank4</th>\n",
       "      <th>error</th>\n",
       "    </tr>\n",
       "  </thead>\n",
       "  <tbody>\n",
       "    <tr>\n",
       "      <th>0</th>\n",
       "      <td>../VDO_resize/kan1/2017052212_0/0.png</td>\n",
       "      <td>NaN</td>\n",
       "      <td>0</td>\n",
       "      <td>NaN</td>\n",
       "      <td>55.0</td>\n",
       "      <td>42.0</td>\n",
       "      <td>NaN</td>\n",
       "      <td>53.872128</td>\n",
       "      <td>39.189598</td>\n",
       "      <td>NaN</td>\n",
       "      <td>3.028276</td>\n",
       "    </tr>\n",
       "    <tr>\n",
       "      <th>1</th>\n",
       "      <td>../VDO_resize/kan1/2017052212_0/1.png</td>\n",
       "      <td>NaN</td>\n",
       "      <td>1</td>\n",
       "      <td>NaN</td>\n",
       "      <td>54.0</td>\n",
       "      <td>43.0</td>\n",
       "      <td>NaN</td>\n",
       "      <td>57.410339</td>\n",
       "      <td>36.565945</td>\n",
       "      <td>NaN</td>\n",
       "      <td>7.281997</td>\n",
       "    </tr>\n",
       "    <tr>\n",
       "      <th>2</th>\n",
       "      <td>../VDO_resize/kan1/2017052212_0/2.png</td>\n",
       "      <td>NaN</td>\n",
       "      <td>1</td>\n",
       "      <td>NaN</td>\n",
       "      <td>54.0</td>\n",
       "      <td>43.0</td>\n",
       "      <td>NaN</td>\n",
       "      <td>57.768364</td>\n",
       "      <td>36.625847</td>\n",
       "      <td>NaN</td>\n",
       "      <td>7.404755</td>\n",
       "    </tr>\n",
       "    <tr>\n",
       "      <th>3</th>\n",
       "      <td>../VDO_resize/kan1/2017052212_0/3.png</td>\n",
       "      <td>NaN</td>\n",
       "      <td>0</td>\n",
       "      <td>NaN</td>\n",
       "      <td>55.0</td>\n",
       "      <td>42.0</td>\n",
       "      <td>NaN</td>\n",
       "      <td>53.428246</td>\n",
       "      <td>40.663277</td>\n",
       "      <td>NaN</td>\n",
       "      <td>2.063308</td>\n",
       "    </tr>\n",
       "    <tr>\n",
       "      <th>4</th>\n",
       "      <td>../VDO_resize/kan1/2017052212_0/4.png</td>\n",
       "      <td>NaN</td>\n",
       "      <td>1</td>\n",
       "      <td>NaN</td>\n",
       "      <td>55.0</td>\n",
       "      <td>42.0</td>\n",
       "      <td>NaN</td>\n",
       "      <td>57.114346</td>\n",
       "      <td>37.281219</td>\n",
       "      <td>NaN</td>\n",
       "      <td>5.170817</td>\n",
       "    </tr>\n",
       "    <tr>\n",
       "      <th>...</th>\n",
       "      <td>...</td>\n",
       "      <td>...</td>\n",
       "      <td>...</td>\n",
       "      <td>...</td>\n",
       "      <td>...</td>\n",
       "      <td>...</td>\n",
       "      <td>...</td>\n",
       "      <td>...</td>\n",
       "      <td>...</td>\n",
       "      <td>...</td>\n",
       "      <td>...</td>\n",
       "    </tr>\n",
       "    <tr>\n",
       "      <th>1955</th>\n",
       "      <td>../VDO_resize/kan1/2017052212_48/35.png</td>\n",
       "      <td>NaN</td>\n",
       "      <td>0</td>\n",
       "      <td>NaN</td>\n",
       "      <td>62.0</td>\n",
       "      <td>47.0</td>\n",
       "      <td>NaN</td>\n",
       "      <td>60.328598</td>\n",
       "      <td>45.846176</td>\n",
       "      <td>NaN</td>\n",
       "      <td>2.030984</td>\n",
       "    </tr>\n",
       "    <tr>\n",
       "      <th>1956</th>\n",
       "      <td>../VDO_resize/kan1/2017052212_48/36.png</td>\n",
       "      <td>NaN</td>\n",
       "      <td>0</td>\n",
       "      <td>NaN</td>\n",
       "      <td>62.0</td>\n",
       "      <td>47.0</td>\n",
       "      <td>NaN</td>\n",
       "      <td>59.982807</td>\n",
       "      <td>45.862232</td>\n",
       "      <td>NaN</td>\n",
       "      <td>2.315941</td>\n",
       "    </tr>\n",
       "    <tr>\n",
       "      <th>1957</th>\n",
       "      <td>../VDO_resize/kan1/2017052212_48/37.png</td>\n",
       "      <td>NaN</td>\n",
       "      <td>0</td>\n",
       "      <td>NaN</td>\n",
       "      <td>63.0</td>\n",
       "      <td>47.0</td>\n",
       "      <td>NaN</td>\n",
       "      <td>60.117233</td>\n",
       "      <td>45.143970</td>\n",
       "      <td>NaN</td>\n",
       "      <td>3.428584</td>\n",
       "    </tr>\n",
       "    <tr>\n",
       "      <th>1958</th>\n",
       "      <td>../VDO_resize/kan1/2017052212_48/38.png</td>\n",
       "      <td>NaN</td>\n",
       "      <td>0</td>\n",
       "      <td>NaN</td>\n",
       "      <td>63.0</td>\n",
       "      <td>47.0</td>\n",
       "      <td>NaN</td>\n",
       "      <td>60.092697</td>\n",
       "      <td>44.636337</td>\n",
       "      <td>NaN</td>\n",
       "      <td>3.746907</td>\n",
       "    </tr>\n",
       "    <tr>\n",
       "      <th>1959</th>\n",
       "      <td>../VDO_resize/kan1/2017052212_48/39.png</td>\n",
       "      <td>NaN</td>\n",
       "      <td>0</td>\n",
       "      <td>NaN</td>\n",
       "      <td>62.0</td>\n",
       "      <td>47.0</td>\n",
       "      <td>NaN</td>\n",
       "      <td>60.204613</td>\n",
       "      <td>44.613712</td>\n",
       "      <td>NaN</td>\n",
       "      <td>2.986266</td>\n",
       "    </tr>\n",
       "  </tbody>\n",
       "</table>\n",
       "<p>1960 rows × 11 columns</p>\n",
       "</div>"
      ],
      "text/plain": [
       "                                        image  blank1  state  blank2  truth_x  \\\n",
       "0       ../VDO_resize/kan1/2017052212_0/0.png     NaN      0     NaN     55.0   \n",
       "1       ../VDO_resize/kan1/2017052212_0/1.png     NaN      1     NaN     54.0   \n",
       "2       ../VDO_resize/kan1/2017052212_0/2.png     NaN      1     NaN     54.0   \n",
       "3       ../VDO_resize/kan1/2017052212_0/3.png     NaN      0     NaN     55.0   \n",
       "4       ../VDO_resize/kan1/2017052212_0/4.png     NaN      1     NaN     55.0   \n",
       "...                                       ...     ...    ...     ...      ...   \n",
       "1955  ../VDO_resize/kan1/2017052212_48/35.png     NaN      0     NaN     62.0   \n",
       "1956  ../VDO_resize/kan1/2017052212_48/36.png     NaN      0     NaN     62.0   \n",
       "1957  ../VDO_resize/kan1/2017052212_48/37.png     NaN      0     NaN     63.0   \n",
       "1958  ../VDO_resize/kan1/2017052212_48/38.png     NaN      0     NaN     63.0   \n",
       "1959  ../VDO_resize/kan1/2017052212_48/39.png     NaN      0     NaN     62.0   \n",
       "\n",
       "      truth_y  blank3  estimate_x  estimate_y  blank4     error  \n",
       "0        42.0     NaN   53.872128   39.189598     NaN  3.028276  \n",
       "1        43.0     NaN   57.410339   36.565945     NaN  7.281997  \n",
       "2        43.0     NaN   57.768364   36.625847     NaN  7.404755  \n",
       "3        42.0     NaN   53.428246   40.663277     NaN  2.063308  \n",
       "4        42.0     NaN   57.114346   37.281219     NaN  5.170817  \n",
       "...       ...     ...         ...         ...     ...       ...  \n",
       "1955     47.0     NaN   60.328598   45.846176     NaN  2.030984  \n",
       "1956     47.0     NaN   59.982807   45.862232     NaN  2.315941  \n",
       "1957     47.0     NaN   60.117233   45.143970     NaN  3.428584  \n",
       "1958     47.0     NaN   60.092697   44.636337     NaN  3.746907  \n",
       "1959     47.0     NaN   60.204613   44.613712     NaN  2.986266  \n",
       "\n",
       "[1960 rows x 11 columns]"
      ]
     },
     "execution_count": 4,
     "metadata": {},
     "output_type": "execute_result"
    }
   ],
   "source": [
    "n = ['image', 'blank1', 'state', 'blank2', 'truth_x', 'truth_y', 'blank3', 'estimate_x', 'estimate_y', 'blank4', 'error']\n",
    "df = pd.read_csv('C:/Users/ployw/OneDrive/Desktop/Kyutech/Lab/Thesis/Result/Pupil detection/D2 Data set/Result Files/AlexNet/result.csv',header = None,names=n)\n",
    "df"
   ]
  },
  {
   "cell_type": "code",
   "execution_count": 5,
   "metadata": {},
   "outputs": [
    {
     "data": {
      "text/plain": [
       "966"
      ]
     },
     "execution_count": 5,
     "metadata": {},
     "output_type": "execute_result"
    }
   ],
   "source": [
    "df['error'].argmin()"
   ]
  },
  {
   "cell_type": "code",
   "execution_count": 7,
   "metadata": {},
   "outputs": [
    {
     "data": {
      "text/html": [
       "<div>\n",
       "<style scoped>\n",
       "    .dataframe tbody tr th:only-of-type {\n",
       "        vertical-align: middle;\n",
       "    }\n",
       "\n",
       "    .dataframe tbody tr th {\n",
       "        vertical-align: top;\n",
       "    }\n",
       "\n",
       "    .dataframe thead th {\n",
       "        text-align: right;\n",
       "    }\n",
       "</style>\n",
       "<table border=\"1\" class=\"dataframe\">\n",
       "  <thead>\n",
       "    <tr style=\"text-align: right;\">\n",
       "      <th></th>\n",
       "      <th>image</th>\n",
       "      <th>blank1</th>\n",
       "      <th>state</th>\n",
       "      <th>blank2</th>\n",
       "      <th>truth_x</th>\n",
       "      <th>truth_y</th>\n",
       "      <th>blank3</th>\n",
       "      <th>estimate_x</th>\n",
       "      <th>estimate_y</th>\n",
       "      <th>blank4</th>\n",
       "      <th>error</th>\n",
       "    </tr>\n",
       "  </thead>\n",
       "  <tbody>\n",
       "    <tr>\n",
       "      <th>966</th>\n",
       "      <td>../VDO_resize/kan1/2017052212_24/6.png</td>\n",
       "      <td>NaN</td>\n",
       "      <td>0</td>\n",
       "      <td>NaN</td>\n",
       "      <td>53.0</td>\n",
       "      <td>44.0</td>\n",
       "      <td>NaN</td>\n",
       "      <td>52.753788</td>\n",
       "      <td>43.701321</td>\n",
       "      <td>NaN</td>\n",
       "      <td>0.387078</td>\n",
       "    </tr>\n",
       "  </tbody>\n",
       "</table>\n",
       "</div>"
      ],
      "text/plain": [
       "                                      image  blank1  state  blank2  truth_x  \\\n",
       "966  ../VDO_resize/kan1/2017052212_24/6.png     NaN      0     NaN     53.0   \n",
       "\n",
       "     truth_y  blank3  estimate_x  estimate_y  blank4     error  \n",
       "966     44.0     NaN   52.753788   43.701321     NaN  0.387078  "
      ]
     },
     "execution_count": 7,
     "metadata": {},
     "output_type": "execute_result"
    }
   ],
   "source": [
    "df.nsmallest(1,columns='error')"
   ]
  },
  {
   "cell_type": "code",
   "execution_count": 9,
   "metadata": {},
   "outputs": [
    {
     "name": "stdout",
     "output_type": "stream",
     "text": [
      "0.3870784247471192\n"
     ]
    }
   ],
   "source": [
    "min_value = df['error'][df['error'].argmin()]\n",
    "print(min_value)"
   ]
  },
  {
   "cell_type": "code",
   "execution_count": 10,
   "metadata": {},
   "outputs": [
    {
     "name": "stdout",
     "output_type": "stream",
     "text": [
      "[0.3870784247471192]\n"
     ]
    }
   ],
   "source": [
    "min.append(min_value)\n",
    "print(min)"
   ]
  }
 ],
 "metadata": {
  "interpreter": {
   "hash": "d53e1329bae4e68341077a655bad661457cf9a5240465b2838631e5d054e249f"
  },
  "kernelspec": {
   "display_name": "Python 3.9.6 64-bit ('lingenv': venv)",
   "language": "python",
   "name": "python3"
  },
  "language_info": {
   "codemirror_mode": {
    "name": "ipython",
    "version": 3
   },
   "file_extension": ".py",
   "mimetype": "text/x-python",
   "name": "python",
   "nbconvert_exporter": "python",
   "pygments_lexer": "ipython3",
   "version": "3.9.6"
  },
  "orig_nbformat": 4
 },
 "nbformat": 4,
 "nbformat_minor": 2
}
