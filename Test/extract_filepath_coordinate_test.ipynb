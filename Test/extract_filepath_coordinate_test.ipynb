{
 "cells": [
  {
   "cell_type": "code",
   "execution_count": 105,
   "metadata": {},
   "outputs": [],
   "source": [
    "import pandas as pd\n",
    "\n",
    "name = ['image', 'blank1', 'state', 'blank2', 'truth_x', 'truth_y', 'blank3', 'estimate_x', 'estimate_y', 'blank4', 'error']\n",
    "df = pd.read_csv('C:/Users/ployw/OneDrive/Desktop/Kyutech/Lab/Thesis/Result/Pupil detection/D2 Data set/Result Files/AlexNet/result.csv',header = None,names=name)"
   ]
  },
  {
   "cell_type": "code",
   "execution_count": 106,
   "metadata": {},
   "outputs": [],
   "source": [
    "image = list(df[\"image\"])\n",
    "image_cut = []"
   ]
  },
  {
   "cell_type": "code",
   "execution_count": 107,
   "metadata": {},
   "outputs": [],
   "source": [
    "for i in range(len(image)):\n",
    "    count = 0\n",
    "    keep = ''\n",
    "    for j in image[i]:\n",
    "        if count >= 14:\n",
    "            keep = keep + j\n",
    "        count += 1\n",
    "    image_cut.append(keep)\n",
    "\n",
    "# dfw = pd.DataFrame(image_cut, columns = ['file_path'])\n",
    "# dfw.to_csv(\"file_path.csv\")"
   ]
  },
  {
   "cell_type": "code",
   "execution_count": 108,
   "metadata": {},
   "outputs": [],
   "source": [
    "model_name = ['VGG16+Dropout','VGG16','VGG16+Batch Normalization','Xception+Dropout','Xception','AlexNet']"
   ]
  },
  {
   "cell_type": "code",
   "execution_count": 109,
   "metadata": {},
   "outputs": [],
   "source": [
    "VGG16_Dropout = {\n",
    "    'file_path' : image_cut,\n",
    "    'truth_x' : [],\n",
    "    'truth_y' : [],\n",
    "    'estimate_x' : [],\n",
    "    'estimate_y' : []\n",
    "}\n",
    "\n",
    "VGG16 = {\n",
    "    'file_path' : image_cut,\n",
    "    'truth_x' : [],\n",
    "    'truth_y' : [],\n",
    "    'estimate_x' : [],\n",
    "    'estimate_y' : []\n",
    "}\n",
    "\n",
    "VGG16_BatchNormalization = {\n",
    "    'file_path' : image_cut,\n",
    "    'truth_x' : [],\n",
    "    'truth_y' : [],\n",
    "    'estimate_x' : [],\n",
    "    'estimate_y' : []\n",
    "}\n",
    "\n",
    "Xception_Dropout = {\n",
    "    'file_path' : image_cut,\n",
    "    'truth_x' : [],\n",
    "    'truth_y' : [],\n",
    "    'estimate_x' : [],\n",
    "    'estimate_y' : []\n",
    "}\n",
    "\n",
    "Xception = {\n",
    "    'file_path' : image_cut,\n",
    "    'truth_x' : [],\n",
    "    'truth_y' : [],\n",
    "    'estimate_x' : [],\n",
    "    'estimate_y' : []\n",
    "}\n",
    "\n",
    "AlexNet = {\n",
    "    'file_path' : image_cut,\n",
    "    'truth_x' : [],\n",
    "    'truth_y' : [],\n",
    "    'estimate_x' : [],\n",
    "    'estimate_y' : []\n",
    "}"
   ]
  },
  {
   "cell_type": "code",
   "execution_count": null,
   "metadata": {},
   "outputs": [],
   "source": [
    "dic1 = {\n",
    "    'file_path' : image_cut,\n",
    "    'truth_x' : [],\n",
    "    'truth_y' : [],\n",
    "    'estimate_x' : [],\n",
    "    'estimate_y' : []\n",
    "}\n",
    "dic1['truth_x'].append('1')\n",
    "print(dic1['truth_x'])\n",
    "\n",
    "hey = [dic1]\n",
    "# x = 1\n",
    "# print(dic[x])\n",
    "k = 0\n",
    "hey[k]['truth_x'].append('1')\n",
    "print(dic1['truth_x'])\n",
    "\n",
    "for z in range(1):\n",
    "    hey[z]['truth_x'].append('1')\n",
    "\n",
    "print(dic1['truth_x'])"
   ]
  },
  {
   "cell_type": "code",
   "execution_count": 110,
   "metadata": {},
   "outputs": [],
   "source": [
    "model_dict = [VGG16_Dropout,VGG16,VGG16_BatchNormalization,Xception_Dropout,Xception,AlexNet]\n",
    "for j in range(len(model_name)):\n",
    "    df = pd.read_csv('C:/Users/ployw/OneDrive/Desktop/Kyutech/Lab/Thesis/Result/Pupil detection/D2 Data set/Result Files/'+model_name[j]+'/result.csv',header = None,names = name)\n",
    "    truth_x = list(df[\"truth_x\"])\n",
    "    truth_y = list(df[\"truth_y\"])\n",
    "    estimate_x = list(df[\"estimate_x\"])\n",
    "    estimate_y = list(df[\"estimate_y\"])\n",
    "    model_dict[j][\"truth_x\"] = truth_x\n",
    "    model_dict[j][\"truth_y\"] = truth_y\n",
    "    model_dict[j][\"estimate_x\"] = estimate_x\n",
    "    model_dict[j][\"estimate_y\"] = estimate_y\n",
    "    "
   ]
  },
  {
   "cell_type": "code",
   "execution_count": 118,
   "metadata": {},
   "outputs": [
    {
     "name": "stdout",
     "output_type": "stream",
     "text": [
      "                      file_path  truth_x  truth_y  estimate_x  estimate_y\n",
      "0       kan1/2017052212_0/0.png     55.0     42.0   53.872128   39.189598\n",
      "1       kan1/2017052212_0/1.png     54.0     43.0   57.410339   36.565945\n",
      "2       kan1/2017052212_0/2.png     54.0     43.0   57.768364   36.625847\n",
      "3       kan1/2017052212_0/3.png     55.0     42.0   53.428246   40.663277\n",
      "4       kan1/2017052212_0/4.png     55.0     42.0   57.114346   37.281219\n",
      "...                         ...      ...      ...         ...         ...\n",
      "1955  kan1/2017052212_48/35.png     62.0     47.0   60.328598   45.846176\n",
      "1956  kan1/2017052212_48/36.png     62.0     47.0   59.982807   45.862232\n",
      "1957  kan1/2017052212_48/37.png     63.0     47.0   60.117233   45.143970\n",
      "1958  kan1/2017052212_48/38.png     63.0     47.0   60.092697   44.636337\n",
      "1959  kan1/2017052212_48/39.png     62.0     47.0   60.204613   44.613712\n",
      "\n",
      "[1960 rows x 5 columns]\n",
      "11760\n",
      "1960\n",
      "1960\n",
      "1960\n",
      "1960\n",
      "1960\n",
      "1960\n",
      "11760\n"
     ]
    }
   ],
   "source": [
    "model_dict = [VGG16_Dropout,VGG16,VGG16_BatchNormalization,Xception_Dropout,Xception,AlexNet]\n",
    "# print(VGG16)\n",
    "for z in range(len(model_name)):\n",
    "    ###Work\n",
    "    VGG16_Dropout = pd.DataFrame(model_dict[z])\n",
    "    VGG16 = pd.DataFrame(model_dict[z])\n",
    "    VGG16_BatchNormalization = pd.DataFrame(model_dict[z])\n",
    "    Xception_Dropout = pd.DataFrame(model_dict[z])\n",
    "    Xception = pd.DataFrame(model_dict[z])\n",
    "    AlexNet = pd.DataFrame(model_dict[z])\n",
    "    ###Not work\n",
    "    # model_dict[z] = pd.DataFrame(model_dict[z])\n",
    "print(model_dict[0])\n",
    "#print(VGG16_Dropout)\n",
    "print(len(VGG16_Dropout)+len(VGG16)+len(VGG16_BatchNormalization)+len(Xception_Dropout)+len(Xception)+len(AlexNet))\n",
    "print(len(VGG16_Dropout))\n",
    "print(len(VGG16))\n",
    "print(len(VGG16_BatchNormalization))\n",
    "print(len(Xception_Dropout))\n",
    "print(len(Xception))\n",
    "print(len(AlexNet))\n",
    "\n",
    "print(len(model_dict[0])+len(model_dict[1])+len(model_dict[2])+len(model_dict[3])+len(model_dict[4])+len(model_dict[5]))\n"
   ]
  },
  {
   "cell_type": "code",
   "execution_count": null,
   "metadata": {},
   "outputs": [],
   "source": [
    "VGG16_Dropout = pd.DataFrame(VGG16_Dropout)\n",
    "VGG16 = pd.DataFrame(VGG16)\n",
    "VGG16_BatchNormalization = pd.DataFrame(VGG16_BatchNormalization)\n",
    "Xception_Dropout = pd.DataFrame(Xception_Dropout)\n",
    "Xception = pd.DataFrame(Xception)\n",
    "AlexNet = pd.DataFrame(AlexNet)\n",
    "print(len(VGG16_Dropout)+len(VGG16)+len(VGG16_BatchNormalization)+len(Xception_Dropout)+len(Xception)+len(AlexNet))\n",
    "\n"
   ]
  },
  {
   "cell_type": "code",
   "execution_count": null,
   "metadata": {},
   "outputs": [],
   "source": [
    "dfw = pd.concat([VGG16_Dropout, VGG16, VGG16_BatchNormalization, Xception_Dropout, Xception, AlexNet],keys=['VGG16_Dropout', 'VGG16', 'VGG16_BatchNormalization', 'Xception_Dropout', 'Xception', 'AlexNet'])"
   ]
  },
  {
   "cell_type": "code",
   "execution_count": null,
   "metadata": {},
   "outputs": [],
   "source": [
    "dfw"
   ]
  }
 ],
 "metadata": {
  "interpreter": {
   "hash": "d53e1329bae4e68341077a655bad661457cf9a5240465b2838631e5d054e249f"
  },
  "kernelspec": {
   "display_name": "Python 3.9.6 64-bit ('lingenv': venv)",
   "language": "python",
   "name": "python3"
  },
  "language_info": {
   "codemirror_mode": {
    "name": "ipython",
    "version": 3
   },
   "file_extension": ".py",
   "mimetype": "text/x-python",
   "name": "python",
   "nbconvert_exporter": "python",
   "pygments_lexer": "ipython3",
   "version": "3.9.6"
  },
  "orig_nbformat": 4
 },
 "nbformat": 4,
 "nbformat_minor": 2
}
