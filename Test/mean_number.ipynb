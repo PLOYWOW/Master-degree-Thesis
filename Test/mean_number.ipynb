{
 "cells": [
  {
   "cell_type": "code",
   "execution_count": 1,
   "metadata": {},
   "outputs": [],
   "source": [
    "import pandas as pd\n",
    "import numpy as np\n",
    "\n",
    "model_name = ['VGG16+Dropout','VGG16','VGG16+Batch Normalization','Xception+Dropout','Xception','AlexNet']\n",
    "mean_number = []\n",
    "mean_value = []\n",
    "max_number = [] #No. of image that has max error, refer with path file\n",
    "max_value = []\n",
    "min_number = [] #No. of image that has min error, refer with path file\n",
    "min_value = []\n",
    "\n",
    "name = ['image', 'blank1', 'state', 'blank2', 'truth_x', 'truth_y', 'blank3', 'estimate_x', 'estimate_y', 'blank4', 'error']\n",
    "\n",
    "for i in range(len(model_name)):\n",
    "    df = pd.read_csv('C:/Users/ployw/OneDrive/Desktop/Kyutech/Lab/Thesis/Result/Pupil detection/D2 Data set/Result Files/'+model_name[i]+'/result.csv',header = None,names = name)\n",
    "    \n",
    "    #Filter out state = 1(close)\n",
    "    for j in range(len(df)):\n",
    "        if df['state'][j] == 1:\n",
    "            df.drop(j, inplace = True)\n",
    "    df = df.reset_index() #Reset index\n",
    "\n",
    "    #Mean error number\n",
    "    error = np.array(list(df['error']))\n",
    "    mean = np.array(df['error'].mean())\n",
    "    dif = abs(error-mean)\n",
    "    dif = list(dif)\n",
    "    mean_index = dif.index(min(dif)) #Row, new index\n",
    "\n",
    "    #Error\n",
    "    mean_number.append(df['index'][mean_index]) #Number of image\n",
    "    mean_value.append(df['error'].mean())\n",
    "    max_index = df['error'].argmax() #Row, new index\n",
    "    max_number.append(df['index'][max_index]) #Number of image\n",
    "    max_value.append(df['error'][df['error'].argmax()])\n",
    "    min_index = df['error'].argmin() #Row, new index\n",
    "    min_number.append(df['index'][min_index]) #Number of image\n",
    "    min_value.append(df['error'][df['error'].argmin()])\n",
    "\n",
    "\n",
    "# dfw.to_csv(\"C:/Users/ployw/OneDrive/Desktop/Kyutech/Lab/Thesis/Result/Pupil detection/D2 Data set/Extract Results/error_all_models/error2.csv\")"
   ]
  },
  {
   "cell_type": "code",
   "execution_count": 2,
   "metadata": {},
   "outputs": [],
   "source": [
    "error = {\n",
    "    \"model_name\" : model_name,\n",
    "    \"mean_number\" : mean_number,\n",
    "    \"mean_value\" : mean_value,\n",
    "    \"max_value\" : max_value,\n",
    "    \"max_number\" : max_number,\n",
    "    \"min_value\" : min_value,\n",
    "    \"min_number\" : min_number\n",
    "}\n",
    "\n",
    "dfw = pd.DataFrame(error)\n",
    "dfw.to_csv(\"error2_test.csv\")"
   ]
  }
 ],
 "metadata": {
  "interpreter": {
   "hash": "d53e1329bae4e68341077a655bad661457cf9a5240465b2838631e5d054e249f"
  },
  "kernelspec": {
   "display_name": "Python 3.9.6 64-bit ('lingenv': venv)",
   "language": "python",
   "name": "python3"
  },
  "language_info": {
   "codemirror_mode": {
    "name": "ipython",
    "version": 3
   },
   "file_extension": ".py",
   "mimetype": "text/x-python",
   "name": "python",
   "nbconvert_exporter": "python",
   "pygments_lexer": "ipython3",
   "version": "3.9.6"
  },
  "orig_nbformat": 4
 },
 "nbformat": 4,
 "nbformat_minor": 2
}
