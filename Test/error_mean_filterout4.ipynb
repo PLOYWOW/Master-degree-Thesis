{
 "cells": [
  {
   "cell_type": "code",
   "execution_count": 95,
   "metadata": {},
   "outputs": [],
   "source": [
    "import pandas as pd\n",
    "import numpy as np"
   ]
  },
  {
   "cell_type": "code",
   "execution_count": 96,
   "metadata": {},
   "outputs": [],
   "source": [
    "model_name = ['VGG16+Dropout','VGG16','VGG16+Batch Normalization','Xception+Dropout','Xception','AlexNet']\n",
    "mean = []\n",
    "max_number = [] #No. of image that has max error\n",
    "max_value = []\n",
    "min_number = [] #No. of image that has min error\n",
    "min_value = []"
   ]
  },
  {
   "cell_type": "code",
   "execution_count": 97,
   "metadata": {},
   "outputs": [],
   "source": [
    "name = ['image', 'blank1', 'state', 'blank2', 'truth_x', 'truth_y', 'blank3', 'estimate_x', 'estimate_y', 'blank4', 'error']"
   ]
  },
  {
   "cell_type": "code",
   "execution_count": 98,
   "metadata": {},
   "outputs": [],
   "source": [
    "for i in range(len(model_name)):\n",
    "    df = pd.read_csv('C:/Users/ployw/OneDrive/Desktop/Kyutech/Lab/Thesis/Result/Pupil detection/D2 Data set/Result Files/'+model_name[i]+'/result.csv',header = None,names = name)\n",
    "    \n",
    "    #Filter out state = 1(close)\n",
    "    for j in range(len(df)):\n",
    "        if df['state'][j] == 1:\n",
    "            df.drop(j, inplace = True)\n",
    "    df = df.reset_index() #Reset inde\n",
    "\n",
    "    #Error\n",
    "    mean.append(df['error'].mean())\n",
    "    max_index = df['error'].argmax() #Row, new index\n",
    "    max_number.append(df['index'][max_index]) #Number of image\n",
    "    max_value.append(df['error'][df['error'].argmax()])\n",
    "    min_index = df['error'].argmin() #Row, new index\n",
    "    min_number.append(df['index'][min_index]) #Number of image\n",
    "    min_value.append(df['error'][df['error'].argmin()])\n",
    "    "
   ]
  },
  {
   "cell_type": "code",
   "execution_count": 99,
   "metadata": {},
   "outputs": [
    {
     "name": "stdout",
     "output_type": "stream",
     "text": [
      "[1.222672153584583, 1.6676321208913223, 1.5579358167958959, 1.2753542995250002, 2.498484057889773, 3.4439275529178426]\n",
      "[18.078463636633163, 20.432308958562587, 33.1333337028739, 20.379880584568134, 21.21115874142653, 30.886000170393803]\n",
      "[1009, 1009, 1009, 1009, 1009, 446]\n",
      "[0.0070169165748942, 0.0301219315923941, 0.0207814210747098, 0.0606097220383381, 0.0452247971708137, 0.3870784247471192]\n",
      "[1314, 1136, 130, 832, 417, 966]\n"
     ]
    }
   ],
   "source": [
    "print(mean)\n",
    "print(max_value)\n",
    "print(max_number)\n",
    "print(min_value)\n",
    "print(min_number)"
   ]
  },
  {
   "cell_type": "code",
   "execution_count": 100,
   "metadata": {},
   "outputs": [],
   "source": [
    "error = {\n",
    "    \"model_name\" : model_name,\n",
    "    \"mean\" : mean,\n",
    "    \"max_value\" : max_value,\n",
    "    \"max_number\" : max_number,\n",
    "    \"min_value\" : min_value,\n",
    "    \"min_number\" : min_number\n",
    "}"
   ]
  },
  {
   "cell_type": "code",
   "execution_count": 103,
   "metadata": {},
   "outputs": [
    {
     "data": {
      "text/html": [
       "<div>\n",
       "<style scoped>\n",
       "    .dataframe tbody tr th:only-of-type {\n",
       "        vertical-align: middle;\n",
       "    }\n",
       "\n",
       "    .dataframe tbody tr th {\n",
       "        vertical-align: top;\n",
       "    }\n",
       "\n",
       "    .dataframe thead th {\n",
       "        text-align: right;\n",
       "    }\n",
       "</style>\n",
       "<table border=\"1\" class=\"dataframe\">\n",
       "  <thead>\n",
       "    <tr style=\"text-align: right;\">\n",
       "      <th></th>\n",
       "      <th>model_name</th>\n",
       "      <th>mean</th>\n",
       "      <th>max_value</th>\n",
       "      <th>max_number</th>\n",
       "      <th>min_value</th>\n",
       "      <th>min_number</th>\n",
       "    </tr>\n",
       "  </thead>\n",
       "  <tbody>\n",
       "    <tr>\n",
       "      <th>0</th>\n",
       "      <td>VGG16+Dropout</td>\n",
       "      <td>1.222672</td>\n",
       "      <td>18.078464</td>\n",
       "      <td>1009</td>\n",
       "      <td>0.007017</td>\n",
       "      <td>1314</td>\n",
       "    </tr>\n",
       "    <tr>\n",
       "      <th>1</th>\n",
       "      <td>VGG16</td>\n",
       "      <td>1.667632</td>\n",
       "      <td>20.432309</td>\n",
       "      <td>1009</td>\n",
       "      <td>0.030122</td>\n",
       "      <td>1136</td>\n",
       "    </tr>\n",
       "    <tr>\n",
       "      <th>2</th>\n",
       "      <td>VGG16+Batch Normalization</td>\n",
       "      <td>1.557936</td>\n",
       "      <td>33.133334</td>\n",
       "      <td>1009</td>\n",
       "      <td>0.020781</td>\n",
       "      <td>130</td>\n",
       "    </tr>\n",
       "    <tr>\n",
       "      <th>3</th>\n",
       "      <td>Xception+Dropout</td>\n",
       "      <td>1.275354</td>\n",
       "      <td>20.379881</td>\n",
       "      <td>1009</td>\n",
       "      <td>0.060610</td>\n",
       "      <td>832</td>\n",
       "    </tr>\n",
       "    <tr>\n",
       "      <th>4</th>\n",
       "      <td>Xception</td>\n",
       "      <td>2.498484</td>\n",
       "      <td>21.211159</td>\n",
       "      <td>1009</td>\n",
       "      <td>0.045225</td>\n",
       "      <td>417</td>\n",
       "    </tr>\n",
       "    <tr>\n",
       "      <th>5</th>\n",
       "      <td>AlexNet</td>\n",
       "      <td>3.443928</td>\n",
       "      <td>30.886000</td>\n",
       "      <td>446</td>\n",
       "      <td>0.387078</td>\n",
       "      <td>966</td>\n",
       "    </tr>\n",
       "  </tbody>\n",
       "</table>\n",
       "</div>"
      ],
      "text/plain": [
       "                  model_name      mean  max_value  max_number  min_value  \\\n",
       "0              VGG16+Dropout  1.222672  18.078464        1009   0.007017   \n",
       "1                      VGG16  1.667632  20.432309        1009   0.030122   \n",
       "2  VGG16+Batch Normalization  1.557936  33.133334        1009   0.020781   \n",
       "3           Xception+Dropout  1.275354  20.379881        1009   0.060610   \n",
       "4                   Xception  2.498484  21.211159        1009   0.045225   \n",
       "5                    AlexNet  3.443928  30.886000         446   0.387078   \n",
       "\n",
       "   min_number  \n",
       "0        1314  \n",
       "1        1136  \n",
       "2         130  \n",
       "3         832  \n",
       "4         417  \n",
       "5         966  "
      ]
     },
     "execution_count": 103,
     "metadata": {},
     "output_type": "execute_result"
    }
   ],
   "source": [
    "dfw = pd.DataFrame(error)\n",
    "dfw"
   ]
  }
 ],
 "metadata": {
  "interpreter": {
   "hash": "d53e1329bae4e68341077a655bad661457cf9a5240465b2838631e5d054e249f"
  },
  "kernelspec": {
   "display_name": "Python 3.9.6 64-bit ('lingenv': venv)",
   "language": "python",
   "name": "python3"
  },
  "language_info": {
   "codemirror_mode": {
    "name": "ipython",
    "version": 3
   },
   "file_extension": ".py",
   "mimetype": "text/x-python",
   "name": "python",
   "nbconvert_exporter": "python",
   "pygments_lexer": "ipython3",
   "version": "3.9.6"
  },
  "orig_nbformat": 4
 },
 "nbformat": 4,
 "nbformat_minor": 2
}
